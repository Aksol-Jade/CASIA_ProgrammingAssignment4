{
  "nbformat": 4,
  "nbformat_minor": 0,
  "metadata": {
    "colab": {
      "provenance": []
    },
    "kernelspec": {
      "name": "python3",
      "display_name": "Python 3"
    },
    "language_info": {
      "name": "python"
    }
  },
  "cells": [
    {
      "cell_type": "markdown",
      "source": [
        "**Part 1**\n",
        "We will use the Breast Cancer Wisconsin dataset, built into sklearn.datasets. The dataset contains 569 samples of breast tumors, with 30 numerical features, including:\n",
        "\n",
        "• Mean radius\n",
        "\n",
        "• Mean texture\n",
        "\n",
        "• Mean perimeter\n",
        "\n",
        "• Mean area\n",
        "\n",
        "• Mean smoothness, etc.\n",
        "\n",
        "The target variable (y) represents tumor status:\n",
        "\n",
        "• 0 = Benign\n",
        "\n",
        "• 1 = Malignant\n"
      ],
      "metadata": {
        "id": "v3jqvejPlj1c"
      }
    },
    {
      "cell_type": "code",
      "execution_count": 4,
      "metadata": {
        "colab": {
          "base_uri": "https://localhost:8080/"
        },
        "collapsed": true,
        "id": "LNSDwzUojsfK",
        "outputId": "5de2544b-09d2-4fe4-afe3-f1bfdf1ed6e1"
      },
      "outputs": [
        {
          "output_type": "stream",
          "name": "stdout",
          "text": [
            "   mean radius  mean texture  mean perimeter  mean area  mean smoothness  \\\n",
            "0        17.99         10.38          122.80     1001.0          0.11840   \n",
            "1        20.57         17.77          132.90     1326.0          0.08474   \n",
            "2        19.69         21.25          130.00     1203.0          0.10960   \n",
            "3        11.42         20.38           77.58      386.1          0.14250   \n",
            "4        20.29         14.34          135.10     1297.0          0.10030   \n",
            "\n",
            "   mean compactness  mean concavity  mean concave points  mean symmetry  \\\n",
            "0           0.27760          0.3001              0.14710         0.2419   \n",
            "1           0.07864          0.0869              0.07017         0.1812   \n",
            "2           0.15990          0.1974              0.12790         0.2069   \n",
            "3           0.28390          0.2414              0.10520         0.2597   \n",
            "4           0.13280          0.1980              0.10430         0.1809   \n",
            "\n",
            "   mean fractal dimension  ...  worst texture  worst perimeter  worst area  \\\n",
            "0                 0.07871  ...          17.33           184.60      2019.0   \n",
            "1                 0.05667  ...          23.41           158.80      1956.0   \n",
            "2                 0.05999  ...          25.53           152.50      1709.0   \n",
            "3                 0.09744  ...          26.50            98.87       567.7   \n",
            "4                 0.05883  ...          16.67           152.20      1575.0   \n",
            "\n",
            "   worst smoothness  worst compactness  worst concavity  worst concave points  \\\n",
            "0            0.1622             0.6656           0.7119                0.2654   \n",
            "1            0.1238             0.1866           0.2416                0.1860   \n",
            "2            0.1444             0.4245           0.4504                0.2430   \n",
            "3            0.2098             0.8663           0.6869                0.2575   \n",
            "4            0.1374             0.2050           0.4000                0.1625   \n",
            "\n",
            "   worst symmetry  worst fractal dimension  target  \n",
            "0          0.4601                  0.11890       0  \n",
            "1          0.2750                  0.08902       0  \n",
            "2          0.3613                  0.08758       0  \n",
            "3          0.6638                  0.17300       0  \n",
            "4          0.2364                  0.07678       0  \n",
            "\n",
            "[5 rows x 31 columns]\n"
          ]
        }
      ],
      "source": [
        "from sklearn.datasets import load_breast_cancer\n",
        "import pandas as pd\n",
        "\n",
        "data = load_breast_cancer()\n",
        "df = pd.DataFrame(data.data, columns=data.feature_names)\n",
        "df['target'] = data.target  # Add target column\n",
        "print(df.head())  # Show the first 5 rows\n"
      ]
    },
    {
      "cell_type": "markdown",
      "source": [
        " **Split the dataset into 70% Training and 30% Testing, ensuring class distribution is maintained (use stratify=y in train_test_split).**"
      ],
      "metadata": {
        "id": "a4D9wnCEmvMT"
      }
    },
    {
      "cell_type": "code",
      "source": [
        "from sklearn.model_selection import train_test_split\n",
        "\n",
        "# Define features and target\n",
        "X = df.drop(columns=['target'])  # Feature variables\n",
        "y = df['target']  # Target variable\n",
        "\n",
        "# Split the dataset into 70% training and 30% testing, maintaining class distribution\n",
        "X_train, X_test, y_train, y_test = train_test_split(X, y, test_size=0.3, stratify=y, random_state=42)\n",
        "\n",
        "# Convert training and testing sets to DataFrames for better visualization\n",
        "train_df = X_train.copy()\n",
        "train_df['target'] = y_train\n",
        "\n",
        "test_df = X_test.copy()\n",
        "test_df['target'] = y_test\n",
        "\n",
        "# Display the first few rows of the datasets\n",
        "print(\"Training Dataset:\\n\", train_df.head())\n",
        "print(\"\\nTesting Dataset:\\n\", test_df.head())"
      ],
      "metadata": {
        "colab": {
          "base_uri": "https://localhost:8080/"
        },
        "collapsed": true,
        "id": "wnGGS_y6lgS0",
        "outputId": "04eccc43-8453-4d50-a08f-2ecefa113b0c"
      },
      "execution_count": 5,
      "outputs": [
        {
          "output_type": "stream",
          "name": "stdout",
          "text": [
            "Training Dataset:\n",
            "      mean radius  mean texture  mean perimeter  mean area  mean smoothness  \\\n",
            "469        11.62         18.18           76.38      408.8          0.11750   \n",
            "561        11.20         29.37           70.67      386.0          0.07449   \n",
            "443        10.57         18.32           66.82      340.9          0.08142   \n",
            "362        12.76         18.84           81.87      496.6          0.09676   \n",
            "271        11.29         13.04           72.23      388.0          0.09834   \n",
            "\n",
            "     mean compactness  mean concavity  mean concave points  mean symmetry  \\\n",
            "469           0.14830         0.10200              0.05564         0.1957   \n",
            "561           0.03558         0.00000              0.00000         0.1060   \n",
            "443           0.04462         0.01993              0.01111         0.2372   \n",
            "362           0.07952         0.02688              0.01781         0.1759   \n",
            "271           0.07608         0.03265              0.02755         0.1769   \n",
            "\n",
            "     mean fractal dimension  ...  worst texture  worst perimeter  worst area  \\\n",
            "469                 0.07255  ...          25.40            88.14       528.1   \n",
            "561                 0.05502  ...          38.30            75.19       439.6   \n",
            "443                 0.05768  ...          23.31            69.35       366.3   \n",
            "362                 0.06183  ...          25.99            87.82       579.7   \n",
            "271                 0.06270  ...          16.18            78.27       457.5   \n",
            "\n",
            "     worst smoothness  worst compactness  worst concavity  \\\n",
            "469           0.17800            0.28780          0.31860   \n",
            "561           0.09267            0.05494          0.00000   \n",
            "443           0.09794            0.06542          0.03986   \n",
            "362           0.12980            0.18390          0.12550   \n",
            "271           0.13580            0.15070          0.12750   \n",
            "\n",
            "     worst concave points  worst symmetry  worst fractal dimension  target  \n",
            "469               0.14160          0.2660                  0.09270       1  \n",
            "561               0.00000          0.1566                  0.05905       1  \n",
            "443               0.02222          0.2699                  0.06736       1  \n",
            "362               0.08312          0.2744                  0.07238       1  \n",
            "271               0.08750          0.2733                  0.08022       1  \n",
            "\n",
            "[5 rows x 31 columns]\n",
            "\n",
            "Testing Dataset:\n",
            "      mean radius  mean texture  mean perimeter  mean area  mean smoothness  \\\n",
            "14         13.73         22.61           93.60      578.3          0.11310   \n",
            "150        13.00         20.78           83.51      519.4          0.11350   \n",
            "275        11.89         17.36           76.20      435.6          0.12250   \n",
            "83         19.10         26.29          129.10     1132.0          0.12150   \n",
            "86         14.48         21.46           94.25      648.2          0.09444   \n",
            "\n",
            "     mean compactness  mean concavity  mean concave points  mean symmetry  \\\n",
            "14            0.22930         0.21280              0.08025         0.2069   \n",
            "150           0.07589         0.03136              0.02645         0.2540   \n",
            "275           0.07210         0.05929              0.07404         0.2015   \n",
            "83            0.17910         0.19370              0.14690         0.1634   \n",
            "86            0.09947         0.12040              0.04938         0.2075   \n",
            "\n",
            "     mean fractal dimension  ...  worst texture  worst perimeter  worst area  \\\n",
            "14                  0.07682  ...          32.01           108.80       697.7   \n",
            "150                 0.06087  ...          24.11            90.82       616.7   \n",
            "275                 0.05875  ...          18.99            79.46       472.4   \n",
            "83                  0.07224  ...          32.72           141.30      1298.0   \n",
            "86                  0.05636  ...          29.25           108.40       808.9   \n",
            "\n",
            "     worst smoothness  worst compactness  worst concavity  \\\n",
            "14             0.1651            0.77250          0.69430   \n",
            "150            0.1297            0.11050          0.08112   \n",
            "275            0.1359            0.08368          0.07153   \n",
            "83             0.1392            0.28170          0.24320   \n",
            "86             0.1306            0.19760          0.33490   \n",
            "\n",
            "     worst concave points  worst symmetry  worst fractal dimension  target  \n",
            "14                0.22080          0.3596                  0.14310       0  \n",
            "150               0.06296          0.3196                  0.06435       1  \n",
            "275               0.08946          0.2220                  0.06033       1  \n",
            "83                0.18410          0.2311                  0.09203       0  \n",
            "86                0.12250          0.3020                  0.06846       0  \n",
            "\n",
            "[5 rows x 31 columns]\n"
          ]
        }
      ]
    },
    {
      "cell_type": "markdown",
      "source": [
        "**Preprocess the data using StandardScaler**"
      ],
      "metadata": {
        "id": "OdctalLwm5uz"
      }
    },
    {
      "cell_type": "code",
      "source": [
        "from sklearn.preprocessing import StandardScaler\n",
        "\n",
        "# Initialize StandardScaler\n",
        "scaler = StandardScaler()\n",
        "\n",
        "# Fit and transform the training data\n",
        "X_train_scaled = scaler.fit_transform(X_train)\n",
        "\n",
        "# Transform the testing data (using the same scaler fitted on training data)\n",
        "X_test_scaled = scaler.transform(X_test)\n",
        "\n",
        "# Convert back to DataFrame for better visualization\n",
        "train_scaled_df = pd.DataFrame(X_train_scaled, columns=X_train.columns)\n",
        "train_scaled_df['target'] = y_train.values\n",
        "\n",
        "test_scaled_df = pd.DataFrame(X_test_scaled, columns=X_test.columns)\n",
        "test_scaled_df['target'] = y_test.values\n",
        "\n",
        "# Display the first few rows of the standardized datasets\n",
        "print(\"Standardized Training Dataset:\\n\", train_scaled_df.head())\n",
        "print(\"\\nStandardized Testing Dataset:\\n\", test_scaled_df.head())\n"
      ],
      "metadata": {
        "colab": {
          "base_uri": "https://localhost:8080/"
        },
        "collapsed": true,
        "id": "4sdNM26MnBqb",
        "outputId": "2de5fb63-087e-4b6c-9ecb-0eb84cb41f99"
      },
      "execution_count": 6,
      "outputs": [
        {
          "output_type": "stream",
          "name": "stdout",
          "text": [
            "Standardized Training Dataset:\n",
            "    mean radius  mean texture  mean perimeter  mean area  mean smoothness  \\\n",
            "0    -0.709821     -0.258417       -0.637396  -0.711996         1.628430   \n",
            "1    -0.830331      2.231127       -0.874980  -0.779081        -1.597569   \n",
            "2    -1.011097     -0.227270       -1.035172  -0.911780        -1.077779   \n",
            "3    -0.382721     -0.111581       -0.408966  -0.453660         0.072810   \n",
            "4    -0.804508     -1.401961       -0.810071  -0.773196         0.191319   \n",
            "\n",
            "   mean compactness  mean concavity  mean concave points  mean symmetry  \\\n",
            "0          0.847289        0.166501             0.196420       0.542716   \n",
            "1         -1.267717       -1.086471            -1.243232      -2.658543   \n",
            "2         -1.098096       -0.841650            -0.955767       2.023790   \n",
            "3         -0.443255       -0.756276            -0.782409      -0.163916   \n",
            "4         -0.507801       -0.685397            -0.530392      -0.128228   \n",
            "\n",
            "   mean fractal dimension  ...  worst texture  worst perimeter  worst area  \\\n",
            "0                1.347151  ...      -0.065867        -0.565662   -0.622613   \n",
            "1               -1.052699  ...       1.975153        -0.949574   -0.779331   \n",
            "2               -0.688547  ...      -0.396544        -1.122706   -0.909132   \n",
            "3               -0.120413  ...       0.027482        -0.575148   -0.531239   \n",
            "4               -0.001311  ...      -1.524644        -0.858265   -0.747633   \n",
            "\n",
            "   worst smoothness  worst compactness  worst concavity  worst concave points  \\\n",
            "0          2.019222           0.186202         0.180187              0.400933   \n",
            "1         -1.747652          -1.229372        -1.258947             -1.692788   \n",
            "2         -1.515009          -1.165663        -1.078897             -1.364240   \n",
            "3         -0.108556          -0.445414        -0.692056             -0.463762   \n",
            "4          0.156312          -0.647239        -0.683022             -0.398999   \n",
            "\n",
            "   worst symmetry  worst fractal dimension  target  \n",
            "0       -0.414074                 0.445223       1  \n",
            "1       -2.095723                -1.323417       1  \n",
            "2       -0.354125                -0.886645       1  \n",
            "3       -0.284953                -0.622794       1  \n",
            "4       -0.301862                -0.210724       1  \n",
            "\n",
            "[5 rows x 31 columns]\n",
            "\n",
            "Standardized Testing Dataset:\n",
            "    mean radius  mean texture  mean perimeter  mean area  mean smoothness  \\\n",
            "0    -0.104399      0.727166        0.079100  -0.213272         1.298405   \n",
            "1    -0.313857      0.320029       -0.340729  -0.386575         1.328407   \n",
            "2    -0.632350     -0.440850       -0.644886  -0.633142         2.003459   \n",
            "3     1.436415      1.545890        1.556197   1.415893         1.928454   \n",
            "4     0.110799      0.471315        0.106145  -0.007603        -0.101203   \n",
            "\n",
            "   mean compactness  mean concavity  mean concave points  mean symmetry  \\\n",
            "0          2.367121        1.527572             0.833188       0.942428   \n",
            "1         -0.511366       -0.701244            -0.558854       2.623357   \n",
            "2         -0.582479       -0.358151             0.672508       0.749710   \n",
            "3          1.425200        1.292947             2.557717      -0.610022   \n",
            "4         -0.068926        0.392527             0.034446       0.963841   \n",
            "\n",
            "   mean fractal dimension  ...  worst texture  worst perimeter  worst area  \\\n",
            "0                1.931712  ...       0.979958         0.046820   -0.322283   \n",
            "1               -0.251837  ...      -0.269970        -0.486211   -0.465719   \n",
            "2               -0.542064  ...      -1.080049        -0.822987   -0.721248   \n",
            "3                1.304712  ...       1.092293         1.010308    0.740739   \n",
            "4               -0.869254  ...       0.543274         0.034962   -0.125368   \n",
            "\n",
            "   worst smoothness  worst compactness  worst concavity  worst concave points  \\\n",
            "0          1.449755           3.132732         1.877246              1.571997   \n",
            "1         -0.112971          -0.891618        -0.892523             -0.761851   \n",
            "2          0.160727          -1.054659        -0.935842             -0.370018   \n",
            "3          0.306405           0.149120        -0.160399              1.029345   \n",
            "4         -0.073240          -0.362131         0.253815              0.118517   \n",
            "\n",
            "   worst symmetry  worst fractal dimension  target  \n",
            "0        1.024704                 3.094243       0  \n",
            "1        0.409841                -1.044850       1  \n",
            "2       -1.090423                -1.256141       1  \n",
            "3       -0.950542                 0.410008       0  \n",
            "4        0.139302                -0.828829       0  \n",
            "\n",
            "[5 rows x 31 columns]\n"
          ]
        }
      ]
    },
    {
      "cell_type": "markdown",
      "source": [
        "**Train an SVM model using sklearn.svm.SVC with default parameters.**"
      ],
      "metadata": {
        "id": "vU1yvY9Co2_L"
      }
    },
    {
      "cell_type": "code",
      "source": [
        "from sklearn.svm import SVC\n",
        "from sklearn.metrics import accuracy_score\n",
        "\n",
        "# Initialize the SVM model with default parameters\n",
        "svm_model = SVC()\n",
        "\n",
        "# Train the model on the standardized training dataset\n",
        "svm_model.fit(X_train_scaled, y_train)\n",
        "\n",
        "# Predict on the test dataset\n",
        "y_pred = svm_model.predict(X_test_scaled)\n",
        "\n",
        "# Calculate accuracy\n",
        "accuracy = accuracy_score(y_test, y_pred)\n",
        "\n",
        "# Print accuracy\n",
        "print(f\"SVM Model Accuracy: {accuracy:.4f}\")\n"
      ],
      "metadata": {
        "colab": {
          "base_uri": "https://localhost:8080/"
        },
        "id": "B4-NZrw8o7Sa",
        "outputId": "90730bfe-daa9-406b-b29f-b064ba5125b2"
      },
      "execution_count": 7,
      "outputs": [
        {
          "output_type": "stream",
          "name": "stdout",
          "text": [
            "SVM Model Accuracy: 0.9766\n"
          ]
        }
      ]
    },
    {
      "cell_type": "markdown",
      "source": [
        "**Perform Hyperparameter Tuning using GridSearchCV to optimize:**\n",
        "\n",
        "o C (Regularization parameter)\n",
        "\n",
        "o Gamma (Kernel coefficient for RBF)\n",
        "\n",
        "o Kernel type (linear, rbf, poly)\n",
        "\n"
      ],
      "metadata": {
        "id": "0tRzPZCxpNQz"
      }
    },
    {
      "cell_type": "code",
      "source": [
        "from sklearn.model_selection import GridSearchCV\n",
        "\n",
        "# Define parameter grid for hyperparameter tuning\n",
        "param_grid = {\n",
        "    'C': [0.1, 1, 10, 100],  # Regularization parameter\n",
        "    'gamma': [0.001, 0.01, 0.1, 1],  # Kernel coefficient for RBF\n",
        "    'kernel': ['linear', 'rbf', 'poly']  # Kernel type\n",
        "}\n",
        "\n",
        "# Initialize the SVM model\n",
        "svm_model = SVC()\n",
        "\n",
        "# Perform GridSearchCV for hyperparameter tuning\n",
        "grid_search = GridSearchCV(svm_model, param_grid, cv=5, scoring='accuracy', n_jobs=-1)\n",
        "grid_search.fit(X_train_scaled, y_train)\n",
        "\n",
        "# Get the best parameters and best score\n",
        "best_params = grid_search.best_params_\n",
        "best_score = grid_search.best_score_\n",
        "\n",
        "# Train the final model with the best parameters\n",
        "best_svm_model = SVC(**best_params)\n",
        "best_svm_model.fit(X_train_scaled, y_train)\n",
        "\n",
        "# Predict on the test dataset using the optimized model\n",
        "y_pred_best = best_svm_model.predict(X_test_scaled)\n",
        "\n",
        "# Calculate accuracy of the optimized model\n",
        "best_accuracy = accuracy_score(y_test, y_pred_best)\n",
        "\n",
        "# Display the best parameters and accuracy\n",
        "best_params, best_score, best_accuracy\n"
      ],
      "metadata": {
        "colab": {
          "base_uri": "https://localhost:8080/"
        },
        "id": "I0E3Mod_pUkr",
        "outputId": "2c236f0a-4ddf-40c6-a16e-4946bd7cf06e"
      },
      "execution_count": 8,
      "outputs": [
        {
          "output_type": "execute_result",
          "data": {
            "text/plain": [
              "({'C': 10, 'gamma': 0.001, 'kernel': 'rbf'},\n",
              " 0.9799050632911392,\n",
              " 0.9707602339181286)"
            ]
          },
          "metadata": {},
          "execution_count": 8
        }
      ]
    },
    {
      "cell_type": "markdown",
      "source": [
        "**Evaluate the trained model:\n",
        "o Compute training and testing accuracy.\n",
        "o Identify the most important features using SelectFromModel.\n",
        "o Generate a confusion matrix and calculate:**\n",
        "\n",
        "▪ F1-score\n",
        "\n",
        "▪ Precision\n",
        "\n",
        "▪ Recall\n",
        "\n",
        "▪ False Alarm Rate\n"
      ],
      "metadata": {
        "id": "friMsWnvqINL"
      }
    },
    {
      "cell_type": "code",
      "source": [
        "from sklearn.metrics import accuracy_score, confusion_matrix, f1_score, precision_score, recall_score\n",
        "import matplotlib.pyplot as plt\n",
        "import seaborn as sns\n",
        "# Compute training and testing accuracy\n",
        "train_accuracy = accuracy_score(y_train, best_svm_model.predict(X_train_scaled))\n",
        "test_accuracy = accuracy_score(y_test, best_svm_model.predict(X_test_scaled))\n",
        "\n",
        "# Generate confusion matrix\n",
        "conf_matrix = confusion_matrix(y_test, best_svm_model.predict(X_test_scaled))\n",
        "\n",
        "# Calculate evaluation metrics\n",
        "f1 = f1_score(y_test, best_svm_model.predict(X_test_scaled))\n",
        "precision = precision_score(y_test, best_svm_model.predict(X_test_scaled))\n",
        "recall = recall_score(y_test, best_svm_model.predict(X_test_scaled))\n",
        "\n",
        "# False Alarm Rate (FAR) = FP / (FP + TN)\n",
        "fp = conf_matrix[0][1]  # False Positives\n",
        "tn = conf_matrix[0][0]  # True Negatives\n",
        "false_alarm_rate = fp / (fp + tn)\n",
        "\n",
        "# Print results\n",
        "print(f\"Training Accuracy: {train_accuracy:.4f}\")\n",
        "print(f\"Testing Accuracy: {test_accuracy:.4f}\")\n",
        "print(f\"F1-score: {f1:.4f}\")\n",
        "print(f\"Precision: {precision:.4f}\")\n",
        "print(f\"Recall: {recall:.4f}\")\n",
        "print(f\"False Alarm Rate: {false_alarm_rate:.4f}\")\n",
        "\n",
        "# Plot the confusion matrix\n",
        "plt.figure(figsize=(6, 5))\n",
        "sns.heatmap(conf_matrix, annot=True, fmt=\"d\", cmap=\"Blues\", xticklabels=[\"Malignant\", \"Benign\"], yticklabels=[\"Malignant\", \"Benign\"])\n",
        "plt.xlabel(\"Predicted Label\")\n",
        "plt.ylabel(\"True Label\")\n",
        "plt.title(\"Confusion Matrix\")\n",
        "plt.show()"
      ],
      "metadata": {
        "colab": {
          "base_uri": "https://localhost:8080/",
          "height": 591
        },
        "id": "XDakzDoNqHRL",
        "outputId": "f8ef3618-bb8c-4db2-ab45-5e72f28aa870"
      },
      "execution_count": 12,
      "outputs": [
        {
          "output_type": "stream",
          "name": "stdout",
          "text": [
            "Training Accuracy: 0.9874\n",
            "Testing Accuracy: 0.9708\n",
            "F1-score: 0.9770\n",
            "Precision: 0.9636\n",
            "Recall: 0.9907\n",
            "False Alarm Rate: 0.0625\n"
          ]
        },
        {
          "output_type": "display_data",
          "data": {
            "text/plain": [
              "<Figure size 600x500 with 2 Axes>"
            ],
            "image/png": "[encoded data removed]"
          },
          "metadata": {}
        }
      ]
    },
    {
      "cell_type": "markdown",
      "source": [
        "### Answer the following questions based on your results:\n",
        "\n",
        "# 1. How did you preprocess the dataset (feature scaling, handling missing values if any, etc.)?\n",
        "The dataset was preprocessed using StandardScaler to standardize the feature values. Since the\n",
        "Breast Cancer dataset from sklearn does not contain missing values, no imputation was required.\n",
        "The feature values were scaled to have a mean of 0 and a standard deviation of 1, ensuring\n",
        "efficient training for the SVM model.\n",
        "\n",
        "# 2. Why is it necessary to split the dataset into training and testing sets?\n",
        "Splitting the dataset into training and testing sets helps evaluate the model’s generalization\n",
        "performance. The training set is used to learn patterns in the data, while the test set is used\n",
        "to assess how well the model performs on unseen data, preventing overfitting.\n",
        "\n",
        "# 3. What is the role of StandardScaler in SVM training?\n",
        "StandardScaler ensures that all feature values are on the same scale, which is crucial for\n",
        "distance-based models like SVM. Without standardization, features with larger numerical values\n",
        "could dominate the optimization process, leading to suboptimal model performance.\n",
        "\n",
        "# 4. How does C affect the performance of an SVM model?\n",
        "The parameter C controls the trade-off between achieving a low error on the training data and\n",
        "a simple decision boundary. A small C results in a smoother decision boundary but may lead to\n",
        "underfitting. A larger C prioritizes minimizing training errors, which can lead to overfitting.\n",
        "In this study, the best C value found was 10.\n",
        "\n",
        "# 5. What is the purpose of the kernel function in SVM?\n",
        "The kernel function allows the SVM to classify non-linearly separable data by transforming the\n",
        "feature space into higher dimensions. The RBF kernel, which was found to be optimal in this\n",
        "experiment, maps data points into an infinite-dimensional space to enhance separation.\n",
        "\n",
        "# 6. What were the best hyperparameters found using GridSearchCV?\n",
        "The best hyperparameters found using GridSearchCV were:\n",
        "- C: 10\n",
        "- Gamma: 0.001\n",
        "- Kernel: RBF\n",
        "These parameters resulted in the highest cross-validation accuracy of approximately 97.99%.\n",
        "\n",
        "# 7. What is a confusion matrix, and how is it interpreted?\n",
        "A confusion matrix is a table that summarizes the performance of a classification model. The rows\n",
        "represent actual classes, and the columns represent predicted classes. Our confusion matrix:\n",
        "\n",
        "[[ 60   4]\n",
        " [  1 106]]\n",
        "\n",
        "indicates:\n",
        "- 60 True Negatives (correctly classified Malignant)\n",
        "- 106 True Positives (correctly classified Benign)\n",
        "- 4 False Positives (incorrectly classified Benign as Malignant)\n",
        "- 1 False Negative (incorrectly classified Malignant as Benign)\n",
        "\n",
        "# 8. How are Precision, Recall, and F1-score calculated from the confusion matrix?\n",
        "Precision = TP / (TP + FP) = 106 / (106 + 4) ≈ 0.9636\n",
        "Recall = TP / (TP + FN) = 106 / (106 + 1) ≈ 0.9907\n",
        "F1-score = 2 * (Precision * Recall) / (Precision + Recall) ≈ 0.9770\n",
        "\n",
        "Precision measures the proportion of true positive predictions out of all positive predictions,\n",
        "while recall measures the proportion of actual positives correctly identified. F1-score is the\n",
        "harmonic mean of precision and recall, balancing both metrics.\n",
        "\n",
        "# 9. If the model does not perform well, what adjustments can be made to improve it?\n",
        "If the model does not perform well, the following adjustments could improve performance:\n",
        "1. **Hyperparameter Tuning:** Adjust C, gamma, or try different kernels such as polynomial or sigmoid.\n",
        "2. **Feature Engineering:** Select important features or remove redundant ones.\n",
        "3. **Data Augmentation:** Increase the dataset size or apply synthetic data techniques.\n",
        "4. **Alternative Models:** Try other classification models like Random Forest or Neural Networks.\n",
        "5. **Address Class Imbalance:** Use oversampling or undersampling if the dataset is imbalanced."
      ],
      "metadata": {
        "id": "VxEwh1Q-tJSL"
      }
    }
  ]
}